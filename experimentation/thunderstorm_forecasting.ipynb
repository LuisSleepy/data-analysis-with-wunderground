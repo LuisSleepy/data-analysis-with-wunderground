{
 "cells": [
  {
   "cell_type": "markdown",
   "metadata": {},
   "source": [
    "### Thunderstorm Forecasting using Amateur Weather Stations Meteorological Data\n",
    "\n",
    "Author: Jan Luis Antoc"
   ]
  },
  {
   "cell_type": "markdown",
   "metadata": {},
   "source": [
    "##### Import necessary libraries"
   ]
  },
  {
   "cell_type": "code",
   "execution_count": 45,
   "metadata": {},
   "outputs": [],
   "source": [
    "import polars as pl\n",
    "import os\n",
    "from dotenv import find_dotenv, load_dotenv\n",
    "from datetime import timedelta"
   ]
  },
  {
   "cell_type": "markdown",
   "metadata": {},
   "source": [
    "##### Printing modifications to show all rows"
   ]
  },
  {
   "cell_type": "code",
   "execution_count": 46,
   "metadata": {},
   "outputs": [
    {
     "data": {
      "text/plain": [
       "<polars.config.Config at 0x198ccc25710>"
      ]
     },
     "execution_count": 46,
     "metadata": {},
     "output_type": "execute_result"
    }
   ],
   "source": [
    "pl.Config(tbl_rows=-1)"
   ]
  },
  {
   "cell_type": "markdown",
   "metadata": {},
   "source": [
    "##### Get the necessary variables for the database connection"
   ]
  },
  {
   "cell_type": "code",
   "execution_count": 47,
   "metadata": {},
   "outputs": [],
   "source": [
    "dotenv_path = find_dotenv()\n",
    "load_dotenv(dotenv_path)\n",
    "\n",
    "POSTGRES_HOST = os.getenv(\"POSTGRES_HOST\")\n",
    "POSTGRES_DATABASE = os.getenv(\"POSTGRES_DATABASE\")\n",
    "POSTGRES_USERNAME = os.getenv(\"POSTGRES_USERNAME\")\n",
    "POSTGRES_PASSWORD = os.getenv(\"POSTGRES_PASSWORD\")\n",
    "POSTGRES_SERVER = os.getenv(\"POSTGRES_SERVER\")\n",
    "POSTGRES_PORT = os.getenv(\"POSTGRES_PORT\")"
   ]
  },
  {
   "cell_type": "markdown",
   "metadata": {},
   "source": [
    "##### Query for getting the meteorological data from the database"
   ]
  },
  {
   "cell_type": "code",
   "execution_count": 48,
   "metadata": {},
   "outputs": [],
   "source": [
    "# USER INPUTS HERE\n",
    "STATION_ID = 'IPARAA10'\t\t# Weather station ID as indicated in Wunderground\n",
    "\n",
    "# Query for retrieving data\n",
    "# Use single quotation marks in the query for the column values, like the one in the WHERE clause\n",
    "query = f\"\"\"\n",
    "SELECT\n",
    "\tobs_time_local,\n",
    "    DATE(obs_time_local) AS date,\n",
    "    CAST(EXTRACT(MONTH FROM obs_time_local) AS INTEGER) AS month,\n",
    "    CAST(EXTRACT(DAY FROM obs_time_local) AS INTEGER) AS day,\n",
    "    CAST(EXTRACT(HOUR FROM obs_time_local) AS INTEGER) AS hour,\n",
    "    CAST(EXTRACT(MINUTE FROM obs_time_local) AS INTEGER) AS minute,\n",
    "\tqc_status,\n",
    "\tsolar_radiation_high,\n",
    "\tuv_high,\n",
    "\tdew_point_avg,\n",
    "\ttemperature_avg,\n",
    "\thumidity_avg,\n",
    "\theat_index_avg,\n",
    "\tpressure_max,\n",
    "\tpressure_trend,\n",
    "\twind_direction_avg,\n",
    "\twind_chill_avg,\n",
    "\twind_gust_avg,\n",
    "\twind_speed_avg,\n",
    "\tprecipitation_rate,\n",
    "\tprecipitation_total\n",
    "FROM public.\"measurements\"\n",
    "\n",
    "WHERE station_id = 'IPARAA10' \n",
    "\"\"\""
   ]
  },
  {
   "cell_type": "markdown",
   "metadata": {},
   "source": [
    "##### Run the query and get the data from the local database"
   ]
  },
  {
   "cell_type": "code",
   "execution_count": 49,
   "metadata": {},
   "outputs": [
    {
     "data": {
      "text/html": [
       "<div><style>\n",
       ".dataframe > thead > tr > th,\n",
       ".dataframe > tbody > tr > td {\n",
       "  text-align: right;\n",
       "  white-space: pre-wrap;\n",
       "}\n",
       "</style>\n",
       "<small>shape: (10, 22)</small><table border=\"1\" class=\"dataframe\"><thead><tr><th>obs_time_local</th><th>date</th><th>month</th><th>day</th><th>hour</th><th>minute</th><th>qc_status</th><th>solar_radiation_high</th><th>uv_high</th><th>dew_point_avg</th><th>temperature_avg</th><th>humidity_avg</th><th>heat_index_avg</th><th>pressure_max</th><th>pressure_trend</th><th>wind_direction_avg</th><th>wind_chill_avg</th><th>wind_gust_avg</th><th>wind_speed_avg</th><th>precipitation_rate</th><th>precipitation_total</th><th>previous_obs_time_local</th></tr><tr><td>datetime[ns]</td><td>date</td><td>i32</td><td>i32</td><td>i32</td><td>i32</td><td>i32</td><td>f64</td><td>f64</td><td>f64</td><td>f64</td><td>f64</td><td>f64</td><td>f64</td><td>f64</td><td>f64</td><td>f64</td><td>f64</td><td>f64</td><td>f64</td><td>f64</td><td>datetime[ns]</td></tr></thead><tbody><tr><td>2023-03-13 00:04:53</td><td>2023-03-13</td><td>3</td><td>13</td><td>0</td><td>4</td><td>1</td><td>0.0</td><td>0.0</td><td>21.0</td><td>26.0</td><td>77.0</td><td>26.0</td><td>1015.58</td><td>0.0</td><td>104.0</td><td>26.0</td><td>10.0</td><td>9.0</td><td>0.0</td><td>0.0</td><td>null</td></tr><tr><td>2023-03-13 00:09:52</td><td>2023-03-13</td><td>3</td><td>13</td><td>0</td><td>9</td><td>1</td><td>0.0</td><td>0.0</td><td>21.0</td><td>26.0</td><td>77.0</td><td>26.0</td><td>1015.58</td><td>0.0</td><td>107.0</td><td>26.0</td><td>11.0</td><td>11.0</td><td>0.0</td><td>0.0</td><td>2023-03-13 00:04:53</td></tr><tr><td>2023-03-13 00:14:52</td><td>2023-03-13</td><td>3</td><td>13</td><td>0</td><td>14</td><td>1</td><td>0.0</td><td>0.0</td><td>21.0</td><td>25.0</td><td>77.0</td><td>26.0</td><td>1015.58</td><td>0.0</td><td>95.0</td><td>25.0</td><td>11.0</td><td>10.0</td><td>0.0</td><td>0.0</td><td>2023-03-13 00:09:52</td></tr><tr><td>2023-03-13 00:19:52</td><td>2023-03-13</td><td>3</td><td>13</td><td>0</td><td>19</td><td>1</td><td>0.0</td><td>0.0</td><td>21.0</td><td>25.0</td><td>77.0</td><td>26.0</td><td>1015.58</td><td>0.0</td><td>103.0</td><td>25.0</td><td>11.0</td><td>10.0</td><td>0.0</td><td>0.0</td><td>2023-03-13 00:14:52</td></tr><tr><td>2023-03-13 00:24:52</td><td>2023-03-13</td><td>3</td><td>13</td><td>0</td><td>24</td><td>1</td><td>0.0</td><td>0.0</td><td>21.0</td><td>25.0</td><td>78.0</td><td>26.0</td><td>1015.58</td><td>0.0</td><td>81.0</td><td>25.0</td><td>8.0</td><td>7.0</td><td>0.0</td><td>0.0</td><td>2023-03-13 00:19:52</td></tr><tr><td>2023-03-13 00:29:52</td><td>2023-03-13</td><td>3</td><td>13</td><td>0</td><td>29</td><td>1</td><td>0.0</td><td>0.0</td><td>21.0</td><td>25.0</td><td>77.0</td><td>26.0</td><td>1015.58</td><td>0.0</td><td>90.0</td><td>25.0</td><td>9.0</td><td>9.0</td><td>0.0</td><td>0.0</td><td>2023-03-13 00:24:52</td></tr><tr><td>2023-03-13 00:34:52</td><td>2023-03-13</td><td>3</td><td>13</td><td>0</td><td>34</td><td>1</td><td>0.0</td><td>0.0</td><td>21.0</td><td>25.0</td><td>77.0</td><td>26.0</td><td>1015.58</td><td>0.0</td><td>92.0</td><td>25.0</td><td>10.0</td><td>10.0</td><td>0.0</td><td>0.0</td><td>2023-03-13 00:29:52</td></tr><tr><td>2023-03-13 00:39:52</td><td>2023-03-13</td><td>3</td><td>13</td><td>0</td><td>39</td><td>1</td><td>0.0</td><td>0.0</td><td>21.0</td><td>25.0</td><td>77.0</td><td>26.0</td><td>1015.58</td><td>0.0</td><td>88.0</td><td>25.0</td><td>9.0</td><td>9.0</td><td>0.0</td><td>0.0</td><td>2023-03-13 00:34:52</td></tr><tr><td>2023-03-13 00:44:52</td><td>2023-03-13</td><td>3</td><td>13</td><td>0</td><td>44</td><td>1</td><td>0.0</td><td>0.0</td><td>21.0</td><td>25.0</td><td>76.0</td><td>26.0</td><td>1015.58</td><td>0.0</td><td>93.0</td><td>25.0</td><td>13.0</td><td>12.0</td><td>0.0</td><td>0.0</td><td>2023-03-13 00:39:52</td></tr><tr><td>2023-03-13 00:49:52</td><td>2023-03-13</td><td>3</td><td>13</td><td>0</td><td>49</td><td>1</td><td>0.0</td><td>0.0</td><td>21.0</td><td>25.0</td><td>77.0</td><td>26.0</td><td>1015.58</td><td>0.0</td><td>93.0</td><td>25.0</td><td>12.0</td><td>11.0</td><td>0.0</td><td>0.0</td><td>2023-03-13 00:44:52</td></tr></tbody></table></div>"
      ],
      "text/plain": [
       "shape: (10, 22)\n",
       "┌─────────────┬────────────┬───────┬─────┬───┬─────────────┬─────────────┬────────────┬────────────┐\n",
       "│ obs_time_lo ┆ date       ┆ month ┆ day ┆ … ┆ wind_speed_ ┆ precipitati ┆ precipitat ┆ previous_o │\n",
       "│ cal         ┆ ---        ┆ ---   ┆ --- ┆   ┆ avg         ┆ on_rate     ┆ ion_total  ┆ bs_time_lo │\n",
       "│ ---         ┆ date       ┆ i32   ┆ i32 ┆   ┆ ---         ┆ ---         ┆ ---        ┆ cal        │\n",
       "│ datetime[ns ┆            ┆       ┆     ┆   ┆ f64         ┆ f64         ┆ f64        ┆ ---        │\n",
       "│ ]           ┆            ┆       ┆     ┆   ┆             ┆             ┆            ┆ datetime[n │\n",
       "│             ┆            ┆       ┆     ┆   ┆             ┆             ┆            ┆ s]         │\n",
       "╞═════════════╪════════════╪═══════╪═════╪═══╪═════════════╪═════════════╪════════════╪════════════╡\n",
       "│ 2023-03-13  ┆ 2023-03-13 ┆ 3     ┆ 13  ┆ … ┆ 9.0         ┆ 0.0         ┆ 0.0        ┆ null       │\n",
       "│ 00:04:53    ┆            ┆       ┆     ┆   ┆             ┆             ┆            ┆            │\n",
       "│ 2023-03-13  ┆ 2023-03-13 ┆ 3     ┆ 13  ┆ … ┆ 11.0        ┆ 0.0         ┆ 0.0        ┆ 2023-03-13 │\n",
       "│ 00:09:52    ┆            ┆       ┆     ┆   ┆             ┆             ┆            ┆ 00:04:53   │\n",
       "│ 2023-03-13  ┆ 2023-03-13 ┆ 3     ┆ 13  ┆ … ┆ 10.0        ┆ 0.0         ┆ 0.0        ┆ 2023-03-13 │\n",
       "│ 00:14:52    ┆            ┆       ┆     ┆   ┆             ┆             ┆            ┆ 00:09:52   │\n",
       "│ 2023-03-13  ┆ 2023-03-13 ┆ 3     ┆ 13  ┆ … ┆ 10.0        ┆ 0.0         ┆ 0.0        ┆ 2023-03-13 │\n",
       "│ 00:19:52    ┆            ┆       ┆     ┆   ┆             ┆             ┆            ┆ 00:14:52   │\n",
       "│ 2023-03-13  ┆ 2023-03-13 ┆ 3     ┆ 13  ┆ … ┆ 7.0         ┆ 0.0         ┆ 0.0        ┆ 2023-03-13 │\n",
       "│ 00:24:52    ┆            ┆       ┆     ┆   ┆             ┆             ┆            ┆ 00:19:52   │\n",
       "│ 2023-03-13  ┆ 2023-03-13 ┆ 3     ┆ 13  ┆ … ┆ 9.0         ┆ 0.0         ┆ 0.0        ┆ 2023-03-13 │\n",
       "│ 00:29:52    ┆            ┆       ┆     ┆   ┆             ┆             ┆            ┆ 00:24:52   │\n",
       "│ 2023-03-13  ┆ 2023-03-13 ┆ 3     ┆ 13  ┆ … ┆ 10.0        ┆ 0.0         ┆ 0.0        ┆ 2023-03-13 │\n",
       "│ 00:34:52    ┆            ┆       ┆     ┆   ┆             ┆             ┆            ┆ 00:29:52   │\n",
       "│ 2023-03-13  ┆ 2023-03-13 ┆ 3     ┆ 13  ┆ … ┆ 9.0         ┆ 0.0         ┆ 0.0        ┆ 2023-03-13 │\n",
       "│ 00:39:52    ┆            ┆       ┆     ┆   ┆             ┆             ┆            ┆ 00:34:52   │\n",
       "│ 2023-03-13  ┆ 2023-03-13 ┆ 3     ┆ 13  ┆ … ┆ 12.0        ┆ 0.0         ┆ 0.0        ┆ 2023-03-13 │\n",
       "│ 00:44:52    ┆            ┆       ┆     ┆   ┆             ┆             ┆            ┆ 00:39:52   │\n",
       "│ 2023-03-13  ┆ 2023-03-13 ┆ 3     ┆ 13  ┆ … ┆ 11.0        ┆ 0.0         ┆ 0.0        ┆ 2023-03-13 │\n",
       "│ 00:49:52    ┆            ┆       ┆     ┆   ┆             ┆             ┆            ┆ 00:44:52   │\n",
       "└─────────────┴────────────┴───────┴─────┴───┴─────────────┴─────────────┴────────────┴────────────┘"
      ]
     },
     "execution_count": 49,
     "metadata": {},
     "output_type": "execute_result"
    }
   ],
   "source": [
    "connection_url = f\"postgres://{POSTGRES_USERNAME}:{POSTGRES_PASSWORD}@{POSTGRES_SERVER}:{POSTGRES_PORT}/{POSTGRES_DATABASE}\"\n",
    "df = pl.read_database_uri(query=query, uri=connection_url)\n",
    "\n",
    "df = df.sort(by=\"obs_time_local\", descending=False)\n",
    "\n",
    "df = df.with_columns(\n",
    "    pl.col(\"obs_time_local\").shift(1).alias(\"previous_obs_time_local\")\n",
    ")\n",
    "\n",
    "df.head(10)"
   ]
  },
  {
   "cell_type": "markdown",
   "metadata": {},
   "source": [
    "##### Filtering only rows with 5 minutes interval between each consecutive rows"
   ]
  },
  {
   "cell_type": "code",
   "execution_count": 60,
   "metadata": {},
   "outputs": [],
   "source": [
    "time_difference = df[\"obs_time_local\"] - df[\"previous_obs_time_local\"]\n",
    "\n",
    "# Removed seconds in the time difference due to timing issues seen in the obs_time_local column\n",
    "df = df.with_columns(\n",
    "    ((time_difference >= pl.duration(minutes=4)) & (time_difference <= pl.duration(minutes=5))).alias(\"is_5_minutes_interval\")\n",
    ")\n",
    "\n",
    "# filtered_df = df.filter(df[\"is_5_minutes_interval\"] == True)\n"
   ]
  },
  {
   "cell_type": "markdown",
   "metadata": {},
   "source": [
    "##### Adding the rainfall in next minutes indicator columns"
   ]
  },
  {
   "cell_type": "code",
   "execution_count": 65,
   "metadata": {},
   "outputs": [
    {
     "data": {
      "text/html": [
       "<div><style>\n",
       ".dataframe > thead > tr > th,\n",
       ".dataframe > tbody > tr > td {\n",
       "  text-align: right;\n",
       "  white-space: pre-wrap;\n",
       "}\n",
       "</style>\n",
       "<small>shape: (30, 26)</small><table border=\"1\" class=\"dataframe\"><thead><tr><th>obs_time_local</th><th>date</th><th>month</th><th>day</th><th>hour</th><th>minute</th><th>qc_status</th><th>solar_radiation_high</th><th>uv_high</th><th>dew_point_avg</th><th>temperature_avg</th><th>humidity_avg</th><th>heat_index_avg</th><th>pressure_max</th><th>pressure_trend</th><th>wind_direction_avg</th><th>wind_chill_avg</th><th>wind_gust_avg</th><th>wind_speed_avg</th><th>precipitation_rate</th><th>precipitation_total</th><th>previous_obs_time_local</th><th>is_5_minutes_interval</th><th>rain_in_10_minutes</th><th>rain_in_20_minutes</th><th>rain_in_30_minutes</th></tr><tr><td>datetime[ns]</td><td>date</td><td>i32</td><td>i32</td><td>i32</td><td>i32</td><td>i32</td><td>f64</td><td>f64</td><td>f64</td><td>f64</td><td>f64</td><td>f64</td><td>f64</td><td>f64</td><td>f64</td><td>f64</td><td>f64</td><td>f64</td><td>f64</td><td>f64</td><td>datetime[ns]</td><td>bool</td><td>i32</td><td>i32</td><td>i32</td></tr></thead><tbody><tr><td>2023-09-28 15:59:53</td><td>2023-09-28</td><td>9</td><td>28</td><td>15</td><td>59</td><td>1</td><td>32.5</td><td>0.0</td><td>26.2</td><td>29.4</td><td>82.9</td><td>36.6</td><td>1008.81</td><td>0.0</td><td>24.0</td><td>29.4</td><td>9.9</td><td>9.0</td><td>0.0</td><td>0.0</td><td>2023-09-28 15:54:53</td><td>true</td><td>1</td><td>1</td><td>1</td></tr><tr><td>2023-09-28 16:04:53</td><td>2023-09-28</td><td>9</td><td>28</td><td>16</td><td>4</td><td>1</td><td>6.0</td><td>0.0</td><td>25.8</td><td>28.0</td><td>87.7</td><td>33.6</td><td>1009.48</td><td>8.5</td><td>24.0</td><td>28.0</td><td>8.1</td><td>7.5</td><td>0.0</td><td>0.0</td><td>2023-09-28 15:59:53</td><td>true</td><td>1</td><td>1</td><td>1</td></tr><tr><td>2023-09-28 16:09:53</td><td>2023-09-28</td><td>9</td><td>28</td><td>16</td><td>9</td><td>1</td><td>3.7</td><td>0.0</td><td>25.9</td><td>27.5</td><td>90.8</td><td>32.7</td><td>1009.48</td><td>0.0</td><td>37.0</td><td>27.5</td><td>8.4</td><td>7.6</td><td>16.76</td><td>2.79</td><td>2023-09-28 16:04:53</td><td>true</td><td>1</td><td>1</td><td>1</td></tr><tr><td>2023-09-28 16:14:53</td><td>2023-09-28</td><td>9</td><td>28</td><td>16</td><td>14</td><td>1</td><td>3.3</td><td>0.0</td><td>25.4</td><td>26.2</td><td>94.8</td><td>28.8</td><td>1009.48</td><td>0.0</td><td>35.0</td><td>26.2</td><td>10.4</td><td>9.2</td><td>32.0</td><td>5.33</td><td>2023-09-28 16:09:53</td><td>true</td><td>1</td><td>1</td><td>1</td></tr><tr><td>2023-09-28 16:19:53</td><td>2023-09-28</td><td>9</td><td>28</td><td>16</td><td>19</td><td>1</td><td>4.3</td><td>0.0</td><td>25.3</td><td>25.9</td><td>96.6</td><td>28.0</td><td>1009.48</td><td>0.0</td><td>32.0</td><td>25.9</td><td>8.7</td><td>7.8</td><td>50.29</td><td>11.43</td><td>2023-09-28 16:14:53</td><td>true</td><td>1</td><td>1</td><td>1</td></tr><tr><td>2023-09-28 16:24:53</td><td>2023-09-28</td><td>9</td><td>28</td><td>16</td><td>24</td><td>1</td><td>6.3</td><td>0.0</td><td>25.2</td><td>25.6</td><td>98.2</td><td>27.0</td><td>1009.48</td><td>0.0</td><td>50.0</td><td>25.6</td><td>10.7</td><td>9.6</td><td>79.25</td><td>19.05</td><td>2023-09-28 16:19:53</td><td>true</td><td>1</td><td>1</td><td>1</td></tr><tr><td>2023-09-28 16:29:53</td><td>2023-09-28</td><td>9</td><td>28</td><td>16</td><td>29</td><td>1</td><td>6.2</td><td>0.0</td><td>25.2</td><td>25.3</td><td>99.0</td><td>26.5</td><td>1009.48</td><td>0.0</td><td>40.0</td><td>25.3</td><td>8.4</td><td>7.8</td><td>92.96</td><td>27.43</td><td>2023-09-28 16:24:53</td><td>true</td><td>1</td><td>1</td><td>1</td></tr><tr><td>2023-09-28 16:34:53</td><td>2023-09-28</td><td>9</td><td>28</td><td>16</td><td>34</td><td>1</td><td>4.8</td><td>0.0</td><td>25.3</td><td>25.4</td><td>99.0</td><td>26.6</td><td>1010.5</td><td>12.83</td><td>42.0</td><td>25.4</td><td>3.9</td><td>3.8</td><td>109.73</td><td>37.85</td><td>2023-09-28 16:29:53</td><td>true</td><td>1</td><td>1</td><td>1</td></tr><tr><td>2023-09-28 16:39:53</td><td>2023-09-28</td><td>9</td><td>28</td><td>16</td><td>39</td><td>1</td><td>5.1</td><td>0.0</td><td>24.5</td><td>24.6</td><td>99.0</td><td>25.7</td><td>1010.5</td><td>0.0</td><td>297.0</td><td>24.6</td><td>3.5</td><td>3.5</td><td>123.44</td><td>47.5</td><td>2023-09-28 16:34:53</td><td>true</td><td>1</td><td>1</td><td>1</td></tr><tr><td>2023-09-28 16:44:53</td><td>2023-09-28</td><td>9</td><td>28</td><td>16</td><td>44</td><td>1</td><td>5.2</td><td>0.0</td><td>24.5</td><td>24.5</td><td>99.0</td><td>25.6</td><td>1010.5</td><td>0.0</td><td>222.0</td><td>24.5</td><td>3.0</td><td>3.0</td><td>117.35</td><td>50.8</td><td>2023-09-28 16:39:53</td><td>true</td><td>1</td><td>1</td><td>1</td></tr><tr><td>2023-09-28 16:49:53</td><td>2023-09-28</td><td>9</td><td>28</td><td>16</td><td>49</td><td>1</td><td>4.9</td><td>0.0</td><td>24.6</td><td>24.7</td><td>99.0</td><td>25.8</td><td>1010.5</td><td>0.0</td><td>143.0</td><td>24.7</td><td>10.1</td><td>9.2</td><td>71.63</td><td>51.56</td><td>2023-09-28 16:44:53</td><td>true</td><td>1</td><td>1</td><td>1</td></tr><tr><td>2023-09-28 16:54:53</td><td>2023-09-28</td><td>9</td><td>28</td><td>16</td><td>54</td><td>1</td><td>2.3</td><td>0.0</td><td>24.9</td><td>25.0</td><td>99.0</td><td>26.1</td><td>1010.5</td><td>0.0</td><td>175.0</td><td>25.0</td><td>7.8</td><td>7.2</td><td>22.86</td><td>52.32</td><td>2023-09-28 16:49:53</td><td>true</td><td>1</td><td>1</td><td>1</td></tr><tr><td>2023-09-28 16:59:53</td><td>2023-09-28</td><td>9</td><td>28</td><td>16</td><td>59</td><td>1</td><td>1.8</td><td>0.0</td><td>25.1</td><td>25.2</td><td>99.0</td><td>26.4</td><td>1010.5</td><td>0.0</td><td>177.0</td><td>25.2</td><td>9.4</td><td>8.6</td><td>33.53</td><td>57.15</td><td>2023-09-28 16:54:53</td><td>true</td><td>1</td><td>1</td><td>1</td></tr><tr><td>2023-09-28 17:04:53</td><td>2023-09-28</td><td>9</td><td>28</td><td>17</td><td>4</td><td>1</td><td>1.9</td><td>0.0</td><td>25.4</td><td>25.4</td><td>99.0</td><td>26.8</td><td>1011.18</td><td>8.53</td><td>160.0</td><td>25.4</td><td>13.4</td><td>12.3</td><td>77.72</td><td>65.79</td><td>2023-09-28 16:59:53</td><td>true</td><td>1</td><td>1</td><td>1</td></tr><tr><td>2023-09-28 17:09:53</td><td>2023-09-28</td><td>9</td><td>28</td><td>17</td><td>9</td><td>1</td><td>2.2</td><td>0.0</td><td>24.2</td><td>24.3</td><td>99.0</td><td>25.4</td><td>1011.18</td><td>0.0</td><td>148.0</td><td>24.3</td><td>9.2</td><td>8.6</td><td>83.82</td><td>70.36</td><td>2023-09-28 17:04:53</td><td>true</td><td>1</td><td>1</td><td>1</td></tr><tr><td>2023-09-28 17:14:53</td><td>2023-09-28</td><td>9</td><td>28</td><td>17</td><td>14</td><td>1</td><td>2.1</td><td>0.0</td><td>24.3</td><td>24.4</td><td>99.0</td><td>25.4</td><td>1011.18</td><td>0.0</td><td>197.0</td><td>24.4</td><td>9.3</td><td>8.6</td><td>76.2</td><td>74.42</td><td>2023-09-28 17:09:53</td><td>true</td><td>1</td><td>1</td><td>1</td></tr><tr><td>2023-09-28 17:19:53</td><td>2023-09-28</td><td>9</td><td>28</td><td>17</td><td>19</td><td>1</td><td>1.5</td><td>0.0</td><td>24.1</td><td>24.1</td><td>99.0</td><td>25.2</td><td>1011.51</td><td>4.23</td><td>188.0</td><td>24.1</td><td>5.2</td><td>4.9</td><td>47.24</td><td>77.98</td><td>2023-09-28 17:14:53</td><td>true</td><td>1</td><td>1</td><td>1</td></tr><tr><td>2023-09-28 17:24:53</td><td>2023-09-28</td><td>9</td><td>28</td><td>17</td><td>24</td><td>1</td><td>1.5</td><td>0.0</td><td>24.2</td><td>24.3</td><td>99.0</td><td>25.4</td><td>1011.51</td><td>0.0</td><td>191.0</td><td>24.3</td><td>3.9</td><td>3.8</td><td>44.2</td><td>79.5</td><td>2023-09-28 17:19:53</td><td>true</td><td>1</td><td>1</td><td>1</td></tr><tr><td>2023-09-28 17:29:53</td><td>2023-09-28</td><td>9</td><td>28</td><td>17</td><td>29</td><td>1</td><td>1.3</td><td>0.0</td><td>24.1</td><td>24.2</td><td>99.0</td><td>25.3</td><td>1011.51</td><td>0.0</td><td>207.0</td><td>24.2</td><td>4.4</td><td>4.3</td><td>28.96</td><td>82.55</td><td>2023-09-28 17:24:53</td><td>true</td><td>1</td><td>1</td><td>1</td></tr><tr><td>2023-09-28 17:34:53</td><td>2023-09-28</td><td>9</td><td>28</td><td>17</td><td>34</td><td>1</td><td>0.9</td><td>0.0</td><td>23.9</td><td>24.0</td><td>99.0</td><td>25.1</td><td>1011.51</td><td>-4.28</td><td>210.0</td><td>24.0</td><td>3.5</td><td>3.5</td><td>28.96</td><td>83.57</td><td>2023-09-28 17:29:53</td><td>true</td><td>1</td><td>1</td><td>1</td></tr><tr><td>2023-09-28 17:39:53</td><td>2023-09-28</td><td>9</td><td>28</td><td>17</td><td>39</td><td>1</td><td>0.7</td><td>0.0</td><td>23.9</td><td>24.0</td><td>99.0</td><td>25.0</td><td>1011.18</td><td>0.0</td><td>131.0</td><td>24.0</td><td>7.7</td><td>7.3</td><td>22.86</td><td>84.33</td><td>2023-09-28 17:34:53</td><td>true</td><td>1</td><td>1</td><td>1</td></tr><tr><td>2023-09-28 17:44:53</td><td>2023-09-28</td><td>9</td><td>28</td><td>17</td><td>44</td><td>1</td><td>0.3</td><td>0.0</td><td>23.6</td><td>23.9</td><td>98.3</td><td>25.0</td><td>1011.18</td><td>0.0</td><td>159.0</td><td>23.9</td><td>6.2</td><td>5.8</td><td>16.76</td><td>86.36</td><td>2023-09-28 17:39:53</td><td>true</td><td>1</td><td>1</td><td>1</td></tr><tr><td>2023-09-28 17:49:53</td><td>2023-09-28</td><td>9</td><td>28</td><td>17</td><td>49</td><td>1</td><td>0.0</td><td>0.0</td><td>23.6</td><td>24.0</td><td>98.0</td><td>25.0</td><td>1011.51</td><td>4.23</td><td>192.0</td><td>24.0</td><td>3.3</td><td>3.3</td><td>19.81</td><td>87.12</td><td>2023-09-28 17:44:53</td><td>true</td><td>1</td><td>1</td><td>1</td></tr><tr><td>2023-09-28 17:54:53</td><td>2023-09-28</td><td>9</td><td>28</td><td>17</td><td>54</td><td>1</td><td>0.0</td><td>0.0</td><td>23.7</td><td>24.1</td><td>98.0</td><td>25.2</td><td>1011.51</td><td>0.0</td><td>192.0</td><td>24.1</td><td>1.7</td><td>1.6</td><td>15.24</td><td>87.38</td><td>2023-09-28 17:49:53</td><td>true</td><td>1</td><td>1</td><td>1</td></tr><tr><td>2023-09-28 17:59:53</td><td>2023-09-28</td><td>9</td><td>28</td><td>17</td><td>59</td><td>1</td><td>0.0</td><td>0.0</td><td>23.9</td><td>24.3</td><td>97.7</td><td>25.4</td><td>1011.51</td><td>0.0</td><td>107.0</td><td>24.3</td><td>6.9</td><td>6.4</td><td>4.57</td><td>87.63</td><td>2023-09-28 17:54:53</td><td>true</td><td>1</td><td>1</td><td>1</td></tr><tr><td>2023-09-28 18:04:53</td><td>2023-09-28</td><td>9</td><td>28</td><td>18</td><td>4</td><td>1</td><td>0.0</td><td>0.0</td><td>24.1</td><td>24.5</td><td>97.8</td><td>25.6</td><td>1011.51</td><td>0.0</td><td>68.0</td><td>24.5</td><td>1.8</td><td>1.8</td><td>6.1</td><td>88.39</td><td>2023-09-28 17:59:53</td><td>true</td><td>1</td><td>1</td><td>1</td></tr><tr><td>2023-09-28 18:09:53</td><td>2023-09-28</td><td>9</td><td>28</td><td>18</td><td>9</td><td>1</td><td>0.0</td><td>0.0</td><td>24.1</td><td>24.5</td><td>98.0</td><td>25.6</td><td>1011.51</td><td>0.0</td><td>68.0</td><td>24.5</td><td>0.7</td><td>0.7</td><td>9.14</td><td>88.9</td><td>2023-09-28 18:04:53</td><td>true</td><td>1</td><td>1</td><td>0</td></tr><tr><td>2023-09-28 18:14:53</td><td>2023-09-28</td><td>9</td><td>28</td><td>18</td><td>14</td><td>1</td><td>0.0</td><td>0.0</td><td>24.0</td><td>24.4</td><td>98.0</td><td>25.4</td><td>1011.51</td><td>0.0</td><td>68.0</td><td>24.4</td><td>0.2</td><td>0.2</td><td>7.62</td><td>88.9</td><td>2023-09-28 18:09:53</td><td>true</td><td>1</td><td>1</td><td>0</td></tr><tr><td>2023-09-28 18:19:53</td><td>2023-09-28</td><td>9</td><td>28</td><td>18</td><td>19</td><td>1</td><td>0.0</td><td>0.0</td><td>24.2</td><td>24.5</td><td>98.0</td><td>25.6</td><td>1011.85</td><td>4.23</td><td>313.0</td><td>24.5</td><td>3.5</td><td>3.5</td><td>3.05</td><td>89.15</td><td>2023-09-28 18:14:53</td><td>true</td><td>1</td><td>0</td><td>0</td></tr><tr><td>2023-09-28 18:24:53</td><td>2023-09-28</td><td>9</td><td>28</td><td>18</td><td>24</td><td>1</td><td>0.0</td><td>0.0</td><td>24.2</td><td>24.6</td><td>98.0</td><td>25.7</td><td>1011.85</td><td>0.0</td><td>274.0</td><td>24.6</td><td>3.4</td><td>3.4</td><td>3.05</td><td>89.41</td><td>2023-09-28 18:19:53</td><td>true</td><td>1</td><td>0</td><td>0</td></tr></tbody></table></div>"
      ],
      "text/plain": [
       "shape: (30, 26)\n",
       "┌─────────────┬────────────┬───────┬─────┬───┬─────────────┬─────────────┬────────────┬────────────┐\n",
       "│ obs_time_lo ┆ date       ┆ month ┆ day ┆ … ┆ is_5_minute ┆ rain_in_10_ ┆ rain_in_20 ┆ rain_in_30 │\n",
       "│ cal         ┆ ---        ┆ ---   ┆ --- ┆   ┆ s_interval  ┆ minutes     ┆ _minutes   ┆ _minutes   │\n",
       "│ ---         ┆ date       ┆ i32   ┆ i32 ┆   ┆ ---         ┆ ---         ┆ ---        ┆ ---        │\n",
       "│ datetime[ns ┆            ┆       ┆     ┆   ┆ bool        ┆ i32         ┆ i32        ┆ i32        │\n",
       "│ ]           ┆            ┆       ┆     ┆   ┆             ┆             ┆            ┆            │\n",
       "╞═════════════╪════════════╪═══════╪═════╪═══╪═════════════╪═════════════╪════════════╪════════════╡\n",
       "│ 2023-09-28  ┆ 2023-09-28 ┆ 9     ┆ 28  ┆ … ┆ true        ┆ 1           ┆ 1          ┆ 1          │\n",
       "│ 15:59:53    ┆            ┆       ┆     ┆   ┆             ┆             ┆            ┆            │\n",
       "│ 2023-09-28  ┆ 2023-09-28 ┆ 9     ┆ 28  ┆ … ┆ true        ┆ 1           ┆ 1          ┆ 1          │\n",
       "│ 16:04:53    ┆            ┆       ┆     ┆   ┆             ┆             ┆            ┆            │\n",
       "│ 2023-09-28  ┆ 2023-09-28 ┆ 9     ┆ 28  ┆ … ┆ true        ┆ 1           ┆ 1          ┆ 1          │\n",
       "│ 16:09:53    ┆            ┆       ┆     ┆   ┆             ┆             ┆            ┆            │\n",
       "│ 2023-09-28  ┆ 2023-09-28 ┆ 9     ┆ 28  ┆ … ┆ true        ┆ 1           ┆ 1          ┆ 1          │\n",
       "│ 16:14:53    ┆            ┆       ┆     ┆   ┆             ┆             ┆            ┆            │\n",
       "│ 2023-09-28  ┆ 2023-09-28 ┆ 9     ┆ 28  ┆ … ┆ true        ┆ 1           ┆ 1          ┆ 1          │\n",
       "│ 16:19:53    ┆            ┆       ┆     ┆   ┆             ┆             ┆            ┆            │\n",
       "│ 2023-09-28  ┆ 2023-09-28 ┆ 9     ┆ 28  ┆ … ┆ true        ┆ 1           ┆ 1          ┆ 1          │\n",
       "│ 16:24:53    ┆            ┆       ┆     ┆   ┆             ┆             ┆            ┆            │\n",
       "│ 2023-09-28  ┆ 2023-09-28 ┆ 9     ┆ 28  ┆ … ┆ true        ┆ 1           ┆ 1          ┆ 1          │\n",
       "│ 16:29:53    ┆            ┆       ┆     ┆   ┆             ┆             ┆            ┆            │\n",
       "│ 2023-09-28  ┆ 2023-09-28 ┆ 9     ┆ 28  ┆ … ┆ true        ┆ 1           ┆ 1          ┆ 1          │\n",
       "│ 16:34:53    ┆            ┆       ┆     ┆   ┆             ┆             ┆            ┆            │\n",
       "│ 2023-09-28  ┆ 2023-09-28 ┆ 9     ┆ 28  ┆ … ┆ true        ┆ 1           ┆ 1          ┆ 1          │\n",
       "│ 16:39:53    ┆            ┆       ┆     ┆   ┆             ┆             ┆            ┆            │\n",
       "│ 2023-09-28  ┆ 2023-09-28 ┆ 9     ┆ 28  ┆ … ┆ true        ┆ 1           ┆ 1          ┆ 1          │\n",
       "│ 16:44:53    ┆            ┆       ┆     ┆   ┆             ┆             ┆            ┆            │\n",
       "│ 2023-09-28  ┆ 2023-09-28 ┆ 9     ┆ 28  ┆ … ┆ true        ┆ 1           ┆ 1          ┆ 1          │\n",
       "│ 16:49:53    ┆            ┆       ┆     ┆   ┆             ┆             ┆            ┆            │\n",
       "│ 2023-09-28  ┆ 2023-09-28 ┆ 9     ┆ 28  ┆ … ┆ true        ┆ 1           ┆ 1          ┆ 1          │\n",
       "│ 16:54:53    ┆            ┆       ┆     ┆   ┆             ┆             ┆            ┆            │\n",
       "│ 2023-09-28  ┆ 2023-09-28 ┆ 9     ┆ 28  ┆ … ┆ true        ┆ 1           ┆ 1          ┆ 1          │\n",
       "│ 16:59:53    ┆            ┆       ┆     ┆   ┆             ┆             ┆            ┆            │\n",
       "│ 2023-09-28  ┆ 2023-09-28 ┆ 9     ┆ 28  ┆ … ┆ true        ┆ 1           ┆ 1          ┆ 1          │\n",
       "│ 17:04:53    ┆            ┆       ┆     ┆   ┆             ┆             ┆            ┆            │\n",
       "│ 2023-09-28  ┆ 2023-09-28 ┆ 9     ┆ 28  ┆ … ┆ true        ┆ 1           ┆ 1          ┆ 1          │\n",
       "│ 17:09:53    ┆            ┆       ┆     ┆   ┆             ┆             ┆            ┆            │\n",
       "│ 2023-09-28  ┆ 2023-09-28 ┆ 9     ┆ 28  ┆ … ┆ true        ┆ 1           ┆ 1          ┆ 1          │\n",
       "│ 17:14:53    ┆            ┆       ┆     ┆   ┆             ┆             ┆            ┆            │\n",
       "│ 2023-09-28  ┆ 2023-09-28 ┆ 9     ┆ 28  ┆ … ┆ true        ┆ 1           ┆ 1          ┆ 1          │\n",
       "│ 17:19:53    ┆            ┆       ┆     ┆   ┆             ┆             ┆            ┆            │\n",
       "│ 2023-09-28  ┆ 2023-09-28 ┆ 9     ┆ 28  ┆ … ┆ true        ┆ 1           ┆ 1          ┆ 1          │\n",
       "│ 17:24:53    ┆            ┆       ┆     ┆   ┆             ┆             ┆            ┆            │\n",
       "│ 2023-09-28  ┆ 2023-09-28 ┆ 9     ┆ 28  ┆ … ┆ true        ┆ 1           ┆ 1          ┆ 1          │\n",
       "│ 17:29:53    ┆            ┆       ┆     ┆   ┆             ┆             ┆            ┆            │\n",
       "│ 2023-09-28  ┆ 2023-09-28 ┆ 9     ┆ 28  ┆ … ┆ true        ┆ 1           ┆ 1          ┆ 1          │\n",
       "│ 17:34:53    ┆            ┆       ┆     ┆   ┆             ┆             ┆            ┆            │\n",
       "│ 2023-09-28  ┆ 2023-09-28 ┆ 9     ┆ 28  ┆ … ┆ true        ┆ 1           ┆ 1          ┆ 1          │\n",
       "│ 17:39:53    ┆            ┆       ┆     ┆   ┆             ┆             ┆            ┆            │\n",
       "│ 2023-09-28  ┆ 2023-09-28 ┆ 9     ┆ 28  ┆ … ┆ true        ┆ 1           ┆ 1          ┆ 1          │\n",
       "│ 17:44:53    ┆            ┆       ┆     ┆   ┆             ┆             ┆            ┆            │\n",
       "│ 2023-09-28  ┆ 2023-09-28 ┆ 9     ┆ 28  ┆ … ┆ true        ┆ 1           ┆ 1          ┆ 1          │\n",
       "│ 17:49:53    ┆            ┆       ┆     ┆   ┆             ┆             ┆            ┆            │\n",
       "│ 2023-09-28  ┆ 2023-09-28 ┆ 9     ┆ 28  ┆ … ┆ true        ┆ 1           ┆ 1          ┆ 1          │\n",
       "│ 17:54:53    ┆            ┆       ┆     ┆   ┆             ┆             ┆            ┆            │\n",
       "│ 2023-09-28  ┆ 2023-09-28 ┆ 9     ┆ 28  ┆ … ┆ true        ┆ 1           ┆ 1          ┆ 1          │\n",
       "│ 17:59:53    ┆            ┆       ┆     ┆   ┆             ┆             ┆            ┆            │\n",
       "│ 2023-09-28  ┆ 2023-09-28 ┆ 9     ┆ 28  ┆ … ┆ true        ┆ 1           ┆ 1          ┆ 1          │\n",
       "│ 18:04:53    ┆            ┆       ┆     ┆   ┆             ┆             ┆            ┆            │\n",
       "│ 2023-09-28  ┆ 2023-09-28 ┆ 9     ┆ 28  ┆ … ┆ true        ┆ 1           ┆ 1          ┆ 0          │\n",
       "│ 18:09:53    ┆            ┆       ┆     ┆   ┆             ┆             ┆            ┆            │\n",
       "│ 2023-09-28  ┆ 2023-09-28 ┆ 9     ┆ 28  ┆ … ┆ true        ┆ 1           ┆ 1          ┆ 0          │\n",
       "│ 18:14:53    ┆            ┆       ┆     ┆   ┆             ┆             ┆            ┆            │\n",
       "│ 2023-09-28  ┆ 2023-09-28 ┆ 9     ┆ 28  ┆ … ┆ true        ┆ 1           ┆ 0          ┆ 0          │\n",
       "│ 18:19:53    ┆            ┆       ┆     ┆   ┆             ┆             ┆            ┆            │\n",
       "│ 2023-09-28  ┆ 2023-09-28 ┆ 9     ┆ 28  ┆ … ┆ true        ┆ 1           ┆ 0          ┆ 0          │\n",
       "│ 18:24:53    ┆            ┆       ┆     ┆   ┆             ┆             ┆            ┆            │\n",
       "└─────────────┴────────────┴───────┴─────┴───┴─────────────┴─────────────┴────────────┴────────────┘"
      ]
     },
     "execution_count": 65,
     "metadata": {},
     "output_type": "execute_result"
    }
   ],
   "source": [
    "# TODO: Do more QA here to make sure there are no logical errors in the implementation.\n",
    "# TODO: For improvements, instead of checking the rainfall in the next 10, 20, and 30 minutes, check WITHIN the next 10, 20, and 30 minutes.\n",
    "# TODO: For improvements, instead of precipitation_rate > 0, try >= 2.5 (light rains per PAGASA)\n",
    "\n",
    "with_rainfall_df = df.with_columns(\n",
    "    pl.when((df[\"is_5_minutes_interval\"] == True) & (df[\"precipitation_rate\"].shift(periods=-2) >= 2.5))\n",
    "    .then(1)\n",
    "    .when((df[\"is_5_minutes_interval\"] == False) & (df[\"precipitation_rate\"].shift(periods=-2) >= 2.5))\n",
    "    .then(-1)\n",
    "    .otherwise(0)\n",
    "    .alias(\"rain_in_10_minutes\"),\n",
    "    pl.when((df[\"is_5_minutes_interval\"] == True) & (df[\"precipitation_rate\"].shift(periods=-4) >= 2.5))\n",
    "    .then(1)\n",
    "    .when((df[\"is_5_minutes_interval\"] == False) & (df[\"precipitation_rate\"].shift(periods=-4) >= 2.5))\n",
    "    .then(-1)\n",
    "    .otherwise(0)\n",
    "    .alias(\"rain_in_20_minutes\"),\n",
    "    pl.when((df[\"is_5_minutes_interval\"] == True) & (df[\"precipitation_rate\"].shift(periods=-6) >= 2.5))\n",
    "    .then(1)\n",
    "    .when((df[\"is_5_minutes_interval\"] == False) & (df[\"precipitation_rate\"].shift(periods=-6) >= 2.5))\n",
    "    .then(-1)\n",
    "    .otherwise(0)\n",
    "    .alias(\"rain_in_30_minutes\")\n",
    ")\n",
    "\n",
    "# Checking out some days with rainfall to see if there are no wrong labelling\n",
    "with_rainfall_df.filter((pl.col(\"date\") == pl.date(year=2023, month=9, day=28)) & (pl.col(\"rain_in_10_minutes\") == 1))"
   ]
  }
 ],
 "metadata": {
  "kernelspec": {
   "display_name": "polars-env",
   "language": "python",
   "name": "python3"
  },
  "language_info": {
   "codemirror_mode": {
    "name": "ipython",
    "version": 3
   },
   "file_extension": ".py",
   "mimetype": "text/x-python",
   "name": "python",
   "nbconvert_exporter": "python",
   "pygments_lexer": "ipython3",
   "version": "3.11.4"
  }
 },
 "nbformat": 4,
 "nbformat_minor": 2
}
